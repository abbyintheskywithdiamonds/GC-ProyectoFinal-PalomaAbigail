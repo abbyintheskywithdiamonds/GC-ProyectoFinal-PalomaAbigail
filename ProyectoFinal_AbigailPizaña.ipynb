{
  "cells": [
    {
      "cell_type": "markdown",
      "metadata": {
        "id": "view-in-github",
        "colab_type": "text"
      },
      "source": [
        "<a href=\"https://colab.research.google.com/github/abbyintheskywithdiamonds/GC-ProyectoFinal-PalomaAbigail/blob/main/ProyectoFinal_AbigailPiza%C3%B1a.ipynb\" target=\"_parent\"><img src=\"https://colab.research.google.com/assets/colab-badge.svg\" alt=\"Open In Colab\"/></a>"
      ]
    },
    {
      "cell_type": "code",
      "source": [
        "\n",
        "from tabulate import tabulate\n",
        "from pydna.amplify import pcr\n",
        "\n",
        "try:\n",
        "    archivo = input('Introduzca el nombre del archivo de su DNA templado:\\n')\n",
        "    with open(archivo, 'r') as input_file:\n",
        "        lista = input_file.readlines()\n",
        "        for line in lista: \n",
        "            for ch in line:\n",
        "                if ch[0] == '>':\n",
        "                    lista.pop(0)\n",
        "\n",
        "except FileNotFoundError:\n",
        "    print('No se encontró el nombre del archivo...\\n'\n",
        "          '1. Revise que el nombre esté bien escrito\\n'\n",
        "          '2. Revise que el archivo esté en sus archivos\\n'\n",
        "          '3. Revise que la extensión del archivo sea la correcta (.txt)\\n')\n",
        "\n",
        "sec_temp = ''.join(lista.replace('\\n', '').lower()\n",
        "\n",
        "if len(sec_temp) % 3 |= 0:\n",
        "    raise ValueError('La secuencia de DNA templado no es válida')\n",
        "\n",
        "sec_forward = sec_temp[:22]\n",
        "\n",
        "if sec_forward[21] == 'a' or 't':\n",
        "i = 22\n",
        "for i in sec_temp:\n",
        "    sec_forward = sec_forward + sec_ temp[i]\n",
        "    if sec_temp[i] == 'c' or 'g':\n",
        "        break\n",
        "    i += 1\n",
        "\n",
        "sec_reverse = sec_temp[:-22]\n",
        "if sec_reverse[-22] == 'a' or 't':\n",
        "    r = -23\n",
        "    for i in sec_temp:\n",
        "        sec_reverse = sec_temp[r] + sec_reverse\n",
        "        if sec_temp[r] == 'c' or 'g':\n",
        "            break\n",
        "r = r - 1\n",
        "\n",
        "sec_rest = str(input('Ingrese el sitio de restricción que desea clonar:\\n'\n",
        "                     'Si no desea agregarlo oprima enter.\\n')\n",
        "\n",
        "primer_fw = sec_forward\n",
        "\n",
        "if len(sec_rest) > 0:\n",
        "    primer_fw 'gtac' + sec_rest + primer_fw\n",
        "\n",
        "if len(sec_rest) > 0:\n",
        "    primer_rev = complement(sec_reverse) + sec_rest + 'gtac'\n",
        "else:\n",
        "    primer_rev = complement(sec_reverse)\n",
        "\n",
        "primer_rev = primer_rev[::-1]\n",
        "\n",
        "gc_forward = 0\n",
        "\n",
        "for i in primer_fw: \n",
        "    for i in ['g', 'c']:\n",
        "        gc_forward += 1\n",
        "gccont_fw = gc_forward/len(primer_fw)*100\n",
        "\n",
        "gc_reverse = 0\n",
        "\n",
        "for i in primer_rev:\n",
        "    for i in ['g', 'c']:\n",
        "        gc_reverse += 1\n",
        "gccont_rev = gc_reverse/len(primer_rev)*100\n",
        "\n",
        "def count(primer_fw):\n",
        "    at = 0\n",
        "    gc = 0\n",
        "    for i in (primer_fw):\n",
        "        if i == ['a', 't']:\n",
        "            at += 1\n",
        "        elif i == ['g', 'c']:\n",
        "            gc += 1\n",
        "tm_forward = (2 * at) + (4 * gc)\n",
        "\n",
        "def count(primer_rev):\n",
        "    at = 0\n",
        "    gc = 0\n",
        "    for i in (primer_rev):\n",
        "        if i == ['a', 't']:\n",
        "            at += 1\n",
        "        elif i == ['g', 'c']:\n",
        "            gc += 1\n",
        "tm_reverse = (2 * at) + (4 * gc)\n",
        "\n",
        "table = [[\"Primer Forward\", \"\"\"5'--->3'\"\"\", primer_fw, gccont_fw, tm_forward], ['Primer Reverse\", \"\"\"5'--->3'\"\"\", primer_rev, gccont_rev, tm_reverse]\n",
        "print(tabulate(table, headers=[\"Nombre\", \"Direccionalidad\", \"Secuencia\", 'Contenido GC', 'Temperatura de fusión']))\n",
        "\n",
        "amplicon = PCR(primer_fw, primer_rev, sec_temp)\n",
        "amplicon_fig = amplicon.figure()\n",
        "print(amplicon_fig)"
      ],
      "metadata": {
        "id": "8n5iA-RirjxT",
        "outputId": "3ea699ed-f595-4f8d-bfe1-660329773a85",
        "colab": {
          "base_uri": "https://localhost:8080/",
          "height": 131
        }
      },
      "execution_count": null,
      "outputs": [
        {
          "output_type": "error",
          "ename": "SyntaxError",
          "evalue": "ignored",
          "traceback": [
            "\u001b[0;36m  File \u001b[0;32m\"<ipython-input-19-14239b4d513f>\"\u001b[0;36m, line \u001b[0;32m22\u001b[0m\n\u001b[0;31m    if len(sec_temp) % 3 |= 0:\u001b[0m\n\u001b[0m                          ^\u001b[0m\n\u001b[0;31mSyntaxError\u001b[0m\u001b[0;31m:\u001b[0m invalid syntax\n"
          ]
        }
      ]
    }
  ],
  "metadata": {
    "colab": {
      "collapsed_sections": [],
      "name": "ProyectoFinal_AbigailPizaña",
      "provenance": [],
      "include_colab_link": true
    },
    "kernelspec": {
      "display_name": "Python 3",
      "name": "python3"
    }
  },
  "nbformat": 4,
  "nbformat_minor": 0
}